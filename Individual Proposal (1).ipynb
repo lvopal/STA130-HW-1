{
 "cells": [
  {
   "cell_type": "markdown",
   "id": "41f4520f",
   "metadata": {},
   "source": [
    "# Research Question"
   ]
  },
  {
   "cell_type": "markdown",
   "id": "af5b0b35",
   "metadata": {},
   "source": [
    "Is there an association between individuals who have someone to share their joys and sorrows with and a reduced likelihood of experiencing a sense of emptiness?"
   ]
  },
  {
   "cell_type": "markdown",
   "id": "18bf18a3",
   "metadata": {},
   "source": [
    "# Describe (a) the variables you plan to explore"
   ]
  },
  {
   "cell_type": "markdown",
   "id": "06bf7de2",
   "metadata": {},
   "source": [
    "I chose the variables PSYCH_zimet_multidimensional_social_support_scale_joys and LONELY_dejong_emotional_social_loneliness_scale_emptiness because I am interested in determing if individuals who have someone in their life with whom they can share their emotions of joy and sorrow —such as a romantic partner — are less likely to feel a sense of emptiness. This observation stems personally from my own experiences, and I aim to substantiate it with empirical data by studying the Canadian population from the CSCS survey. Understanding this relationship could provide valuable insights into the importance of social connections for emotional well-being.\n",
    "\n",
    "To explore the association between social support (specifically, having someone to share joys and sorrows with) and feelings of emptiness, several plots, visualizations, and summary statistics can be particularly helpful. Overview:\n",
    "\n",
    "### 1. **Histograms**\n",
    "   - **Purpose**: Visualize the distribution of social support and loneliness scores.\n",
    "   - **Justification**: Histograms provide insights into the **frequency distribution** of each variable, helping identify **skewness** and **multimodality**. This is essential because skewed distributions may require transformations, like a **log transformation** for right-skewed data, to normalize the data. By understanding the overall spread and any unusual patterns, you can make informed decisions about statistical methods and interpretations.\n",
    "\n",
    "### 2. **Box Plots**\n",
    "   - **Purpose**: Display central tendency, variability, and outliers in each variable.\n",
    "   - **Justification**: Box plots highlight the **median**, **quartiles**, and potential **outliers** in each distribution, making it easy to compare social support and emptiness levels. Outliers can influence summary statistics and trends, so spotting them early helps you assess their impact on the relationship between the variables.\n",
    "\n",
    "### 3. **Scatter Plot**\n",
    "   - **Purpose**: Show the relationship between social support (treated as a numerical variable) and loneliness.\n",
    "   - **Justification**: A scatter plot can reveal **patterns** or **trends** in the data, such as a negative association between social support and emptiness. This visualization offers an intuitive view of potential relationships and supports **correlation analysis**, where the **correlation coefficient** quantifies the strength and direction of the association between the variables.\n",
    "\n",
    "### 4. **Violin Plots** (or **Box Plots by Group**)\n",
    "   - **Purpose**: Compare loneliness levels across categorized social support levels.\n",
    "   - **Justification**: If you group individuals into categories based on social support (e.g., “high” and “low”), violin plots can show the **distribution shape** for each category, especially if data is **multimodal**. Violin plots provide more detail on distribution patterns within each group compared to box plots, while box plots by group remain effective for a straightforward comparison of **central tendency and spread**.\n",
    "\n",
    "### Summary Statistics\n",
    "\n",
    "1. **Descriptive Statistics** (e.g., `.describe()` method)\n",
    "   - **Purpose**: Provide a numerical summary (mean, median, standard deviation, minimum, maximum) for each variable.\n",
    "   - **Justification**: Descriptive statistics quantify **central tendency** and **variability**, giving an overall sense of the data’s structure. Understanding these statistics helps you interpret trends in social support and loneliness scores and informs further analysis.\n",
    "\n",
    "2. **Correlation Coefficient**\n",
    "   - **Purpose**: Quantify the strength and direction of the relationship between social support and loneliness.\n",
    "   - **Justification**: The correlation coefficient offers a single, interpretable metric that indicates whether a **linear relationship** exists between the two variables. While it doesn’t imply causation, a significant coefficient can support the hypothesis of an association.\n",
    "\n",
    "\n",
    "\n"
   ]
  },
  {
   "cell_type": "markdown",
   "id": "7c754934",
   "metadata": {},
   "source": [
    "# (b) The analysis you plan to perform"
   ]
  },
  {
   "cell_type": "markdown",
   "id": "a12f3b57",
   "metadata": {},
   "source": [
    "1st) Bootstrapped Confidence Intervals: This technique involves resampling with replacement from the original sample to create many simulated bootstrap samples. By calculating the statistic of interest (e.g., mean or proportion) for each bootstrap sample, we can construct a confidence interval that estimates the likely range of the true population parameter. The sources highlight bootstrapping as valuable for assessing the variability and uncertainty of a statistic, especially when the data is non-normal or involves complex statistics.\n",
    "\n",
    "2nd) Hypothesis Testing: Hypothesis testing involves setting up a null hypothesis, gathering data, conducting a statistical test, and deciding on the null hypothesis based on the evidence. This process includes understanding p-values, significance levels, and the risks of Type I and Type II errors. Sampling distributions play a key role in evaluating evidence against the null hypothesis. The sources emphasize hypothesis testing as a critical framework for evaluating evidence against specific claims or assumptions about a population.\n",
    "\n",
    "3rd) Simple Linear Regression: This method models the relationship between two numeric variables by fitting a straight line to the data. Key components include the slope and intercept of the line, residuals (differences between observed and predicted values), R-squared (a measure of model fit), and significance testing to evaluate the linear relationship.\n",
    "\n",
    "I plan to use simple linear regression. Linear regression is used because it can model the relationship between having someone to share feelings with, represented by an indicator variable, and the outcome variable, emptiness. This method is appropriate because it allows examination of whether changes in the predictor variable (having someone to share with) are associated with changes in the outcome variable (emptiness) \"on average"
   ]
  },
  {
   "cell_type": "markdown",
   "id": "a7a64387",
   "metadata": {},
   "source": [
    "# Describe (a) the possible results your analysis may produce, and (b) how this could be relevant for the objectives of the course project"
   ]
  },
  {
   "cell_type": "markdown",
   "id": "87117366",
   "metadata": {},
   "source": [
    "Hypothesis: Individuals who have someone in their life, such as a romantic partner or close friend, with whom they can share their joys and sorrows will report lower levels of emotional emptiness compared to those without such a relationship. We hypothesize that the presence of a supportive individual who understands and shares emotional experiences will be associated with a statistically significant reduction in feelings of emptiness, highlighting the importance of deep, personal connections for emotional well-being.\n",
    "\n",
    "This analysis is directly relevant to the STA130 course project, which utilizes data from the Canadian Social Connection Survey (CSCS) to explore the critical role of social connections in personal health and well-being. By investigating the association between social support and feelings of emptiness, our findings will contribute to understanding how relationships with family, friends, and community members impact emotional health. This aligns with the project’s goal of raising awareness about the significance of social connection, providing actionable insights that can be transformed into engaging content for social media campaigns"
   ]
  },
  {
   "cell_type": "code",
   "execution_count": null,
   "id": "bbb43841",
   "metadata": {},
   "outputs": [],
   "source": []
  },
  {
   "cell_type": "markdown",
   "id": "2f5d0c55",
   "metadata": {},
   "source": []
  }
 ],
 "metadata": {
  "kernelspec": {
   "display_name": "Python 3 (ipykernel)",
   "language": "python",
   "name": "python3"
  },
  "language_info": {
   "codemirror_mode": {
    "name": "ipython",
    "version": 3
   },
   "file_extension": ".py",
   "mimetype": "text/x-python",
   "name": "python",
   "nbconvert_exporter": "python",
   "pygments_lexer": "ipython3",
   "version": "3.11.6"
  }
 },
 "nbformat": 4,
 "nbformat_minor": 5
}
