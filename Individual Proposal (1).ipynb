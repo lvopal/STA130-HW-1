{
 "cells": [
  {
   "cell_type": "markdown",
   "id": "775a9e01",
   "metadata": {},
   "source": [
    "# Project Proposal: Social Connections and Loneliness\n"
   ]
  },
  {
   "cell_type": "markdown",
   "id": "41f4520f",
   "metadata": {},
   "source": [
    "# Research Question 1"
   ]
  },
  {
   "cell_type": "markdown",
   "id": "58772bbc",
   "metadata": {},
   "source": [
    "Is there an association between individuals who have someone to share their joys and sorrows with and a reduced likelihood of experiencing a sense of emptiness?"
   ]
  },
  {
   "cell_type": "markdown",
   "id": "f6983c18",
   "metadata": {},
   "source": [
    "# Describe (a) the variables you plan to explore"
   ]
  },
  {
   "cell_type": "markdown",
   "id": "06bf7de2",
   "metadata": {},
   "source": [
    "PSYCH_zimet_multidimensional_social_support_scale_joys\n",
    "\n",
    "Description: This variable measures the degree to which an individual feels they have someone to share their joys and sorrows with, representing the presence of a close, understanding relationship.\n",
    "\n",
    "LONELY_dejong_emotional_social_loneliness_scale_emptiness\n",
    "\n",
    "Description: This variable measures levels of emotional emptiness, representing the extent to which an individual experiences feelings of loneliness or social isolation.\n",
    "\n",
    "Justification: I selected these variables to explore whether individuals who have someone in their life to share emotions with—such as a romantic partner—are less likely to feel a sense of emptiness. Understanding this relationship could provide valuable insights into the importance of social connections for emotional well-being."
   ]
  },
  {
   "cell_type": "markdown",
   "id": "26ad4e06",
   "metadata": {},
   "source": [
    "# Visualization: Scatter Plot"
   ]
  },
  {
   "cell_type": "markdown",
   "id": "577e5d09",
   "metadata": {},
   "source": [
    "Scatter Plot Purpose: Show the relationship between social support and loneliness.\n",
    "\n",
    "Justification: A scatter plot can help identify patterns or trends in the data, such as a potential negative association between social support and feelings of emptiness. It provides an intuitive view of possible relationships, which can support the linear regression analysis by visually assessing if a linear trend exists between the variables."
   ]
  },
  {
   "cell_type": "markdown",
   "id": "6c97e68d",
   "metadata": {},
   "source": [
    "# (b) The analysis you plan to perform: Simple Linear Regression"
   ]
  },
  {
   "cell_type": "markdown",
   "id": "2d8050b6",
   "metadata": {},
   "source": [
    "Simple Linear Regression Purpose: To model the relationship between social support (predictor variable) and feelings of emptiness (outcome variable).\n",
    "\n",
    "Method: By fitting a linear model, we can determine if changes in the level of social support are associated with changes in feelings of emptiness on average. The regression slope and p-value will help in assessing whether a statistically significant relationship exists.\n",
    "\n",
    "Justification: Linear regression is suitable here as it allows examination of whether social support, measured on a continuous scale, is associated with feelings of emptiness. This method provides both the direction and strength of association between the two variables, offering insights into the potential impact of social connections on emotional health. I plan to use simple linear regression. Linear regression is used because it can model the relationship between having someone to share feelings with, represented by an indicator variable, and the outcome variable, emptiness. This method is appropriate because it allows examination of whether changes in the predictor variable (having someone to share with) are associated with changes in the outcome variable (emptiness) \"on average"
   ]
  },
  {
   "cell_type": "markdown",
   "id": "ea58190b",
   "metadata": {},
   "source": [
    "# Describe (a) the possible results your analysis may produce, and (b) how this could be relevant for the objectives of the course project"
   ]
  },
  {
   "cell_type": "markdown",
   "id": "e8ed24b4",
   "metadata": {},
   "source": [
    "Hypothesis: Individuals who have someone in their life, such as a romantic partner or close friend, with whom they can share their joys and sorrows will report lower levels of emotional emptiness compared to those without such a relationship. We hypothesize that the presence of a supportive individual who understands and shares emotional experiences will be associated with a statistically significant reduction in feelings of emptiness, highlighting the importance of deep, personal connections for emotional well-being.\n",
    "\n",
    "This analysis is directly relevant to the STA130 course project, which utilizes data from the Canadian Social Connection Survey (CSCS) to explore the critical role of social connections in personal health and well-being. By investigating the association between social support and feelings of emptiness, our findings will contribute to understanding how relationships with family, friends, and community members impact emotional health. This aligns with the project’s goal of raising awareness about the significance of social connection, providing actionable insights that can be transformed into engaging content for social media campaigns"
   ]
  },
  {
   "cell_type": "markdown",
   "id": "6b9366ea",
   "metadata": {},
   "source": [
    "# Research Question 2"
   ]
  },
  {
   "cell_type": "markdown",
   "id": "d5b8caaf",
   "metadata": {},
   "source": [
    "Does spending more days socializing with friends for at least 5 minutes reduce the likelihood of feeling lonely over the course of a week?\n",
    "\n",
    "\n"
   ]
  },
  {
   "cell_type": "markdown",
   "id": "cb0b4181",
   "metadata": {},
   "source": [
    "# Describe (a) the variables you plan to explore"
   ]
  },
  {
   "cell_type": "markdown",
   "id": "7bff74d1",
   "metadata": {},
   "source": [
    "CONNECTION_social_days_friends_p7d_grouped\n",
    "Description: This variable measures the number of days, in the past week, an individual spent at least five minutes socializing with friends. It serves as an indicator of social engagement frequency.\n",
    "\n",
    "LONELY_direct\n",
    "Description: This variable measures whether an individual felt lonely at any point during the past week, offering a direct indicator of recent loneliness.\n",
    "\n",
    "Justification: I selected these variables to examine if more frequent social interactions with friends are associated with lower reports of loneliness. Understanding this relationship could highlight the importance of maintaining regular social contact to support mental well-being."
   ]
  },
  {
   "cell_type": "markdown",
   "id": "6cbe059e",
   "metadata": {},
   "source": [
    "# Visualization: Bar Chart\n"
   ]
  },
  {
   "cell_type": "markdown",
   "id": "f9aa692d",
   "metadata": {},
   "source": [
    "Purpose: Compare the proportions of individuals reporting loneliness across different socialization frequencies.\n",
    "\n",
    "Justification: A bar chart allows for an easy comparison of categorical outcomes (lonely/not lonely) across various levels of social engagement frequency, giving a visual sense of potential trends between loneliness and socialization days."
   ]
  },
  {
   "cell_type": "markdown",
   "id": "6c22c034",
   "metadata": {},
   "source": [
    "# (b) The analysis you plan to perform: Hypothesis Testing\n"
   ]
  },
  {
   "cell_type": "markdown",
   "id": "5f2184ba",
   "metadata": {},
   "source": [
    "Purpose: To determine if there is a statistically significant difference in loneliness levels across categories of socialization frequency with friends.\n",
    "\n",
    "Method: I would conduct a hypothesis test to compare loneliness proportions across groups (e.g., low, medium, high socialization). This test will help assess whether the observed differences in loneliness between these groups are statistically significant, providing evidence for or against an association.\n",
    "\n",
    "Null Hypothesis (H₀): There is no association between the number of days spent socializing with friends and feelings of loneliness.\n",
    "\n",
    "Alternative Hypothesis (H₁): There is an association between the number of days spent socializing with friends and feelings of loneliness.\n",
    "\n",
    "Justification: Hypothesis testing is appropriate here to determine if observed variations in loneliness are statistically significant across different levels of social engagement. This method will help clarify whether more frequent socialization is truly associated with reduced loneliness."
   ]
  },
  {
   "cell_type": "markdown",
   "id": "f89a1521",
   "metadata": {},
   "source": [
    "# # Describe (a) the possible results your analysis may produce, and (b) how this could be relevant for the objectives of the course project"
   ]
  },
  {
   "cell_type": "markdown",
   "id": "dca7156c",
   "metadata": {},
   "source": [
    "Hypothesized Results and Relevance\n",
    "\n",
    "Hypothesis: Individuals who socialize more frequently with friends will report feeling lonely less often. We hypothesize that individuals with higher social engagement frequencies will have a statistically significant lower likelihood of feeling lonely, emphasizing the potential mental health benefits of regular social interactions.\n",
    "\n",
    "Relevance to the Course Project: This analysis aligns with the STA130 course project, which seeks to understand the role of social connections in mental well-being using data from the Canadian Social Connection Survey (CSCS). By investigating the link between friend interactions and loneliness, our findings could highlight actionable insights about maintaining social connections, supporting the project’s goal of promoting the importance of social health and well-being."
   ]
  },
  {
   "cell_type": "markdown",
   "id": "064304e7",
   "metadata": {},
   "source": [
    "# Research Question 3"
   ]
  },
  {
   "cell_type": "markdown",
   "id": "f65fd1a0",
   "metadata": {},
   "source": [
    "Does the frequency of kissing someone over the past three months correlate with a reduced feeling of rejection?\n",
    "\n"
   ]
  },
  {
   "cell_type": "markdown",
   "id": "7371dd01",
   "metadata": {},
   "source": [
    "# Describe (a) the variables you plan to explore"
   ]
  },
  {
   "cell_type": "markdown",
   "id": "0a6c9017",
   "metadata": {},
   "source": [
    "SOCIAL_frequency_kissed_p3m\n",
    "\n",
    "Description: This variable measures how often an individual kissed someone in the past three months, capturing a form of close personal interaction and physical affection.\n",
    "\n",
    "LONELY_dejong_emotional_social_loneliness_scale_rejected\n",
    "\n",
    "Description: This variable indicates the extent to which an individual often feels rejected, providing a measure of emotional loneliness and perceived social exclusion.\n",
    "\n",
    "Justification: These variables were chosen to examine if frequent close, affectionate interactions, such as kissing, correlate with a reduced sense of rejection. This insight could be valuable in understanding how intimate connections impact emotional well-being and feelings of social acceptance."
   ]
  },
  {
   "cell_type": "markdown",
   "id": "e8df115a",
   "metadata": {},
   "source": [
    "# Visualization: Box Plot"
   ]
  },
  {
   "cell_type": "markdown",
   "id": "fa5de52f",
   "metadata": {},
   "source": [
    "Box Plot Purpose: Display the distribution of feelings of rejection across different frequency categories for kissing (e.g., “never,” “occasionally,” “frequently”).\n",
    "\n",
    "Justification: A box plot allows for clear comparisons of the central tendency, spread, and potential outliers of rejection scores across kissing frequency groups, making it easier to observe any trends or patterns in the data"
   ]
  },
  {
   "cell_type": "markdown",
   "id": "f68beb57",
   "metadata": {},
   "source": [
    "# (b) The analysis you plan to perform: Bootstrapping"
   ]
  },
  {
   "cell_type": "markdown",
   "id": "6a907b76",
   "metadata": {},
   "source": [
    "Purpose: To assess the variability and reliability of the observed association between kissing frequency and feelings of rejection.\n",
    "\n",
    "Method: Bootstrapping will involve resampling the data to create multiple simulated samples, calculating the mean or median rejection score for each category of kissing frequency. This method generates confidence intervals around each group’s mean rejection score, helping to estimate the precision of the observed differences in rejection levels across groups.\n",
    "\n",
    "Justification: Bootstrapping is particularly useful here due to its flexibility with potentially non-normal distributions and its ability to estimate sampling variability without relying on strict parametric assumptions. By using bootstrapped confidence intervals, we can better understand whether any observed association between kissing frequency and rejection is likely to hold in the larger population."
   ]
  },
  {
   "cell_type": "markdown",
   "id": "11d00dc2",
   "metadata": {},
   "source": [
    "# Describe (a) the possible results your analysis may produce, and (b) how this could be relevant for the objectives of the course project"
   ]
  },
  {
   "cell_type": "markdown",
   "id": "eed826ca",
   "metadata": {},
   "source": [
    "Hypothesis: Individuals who engage in more frequent intimate interactions, such as kissing, will report lower levels of feeling rejected. We hypothesize that the bootstrapped confidence intervals will indicate a lower average rejection score among those who frequently engage in close physical interactions, suggesting that affectionate connections may help reduce feelings of rejection.\n",
    "\n",
    "Relevance to the Course Project: This analysis aligns with the STA130 course project’s focus on the effects of social connections on personal well-being. Using data from the Canadian Social Connection Survey (CSCS), this analysis provides insights into how close, affectionate relationships might mitigate feelings of rejection, highlighting the emotional benefits of physical closeness. This contributes to the course project’s aim of promoting social connections for mental and emotional health.\n",
    "\n",
    "\n",
    "\n",
    "\n",
    "\n",
    "\n"
   ]
  }
 ],
 "metadata": {
  "kernelspec": {
   "display_name": "Python 3 (ipykernel)",
   "language": "python",
   "name": "python3"
  },
  "language_info": {
   "codemirror_mode": {
    "name": "ipython",
    "version": 3
   },
   "file_extension": ".py",
   "mimetype": "text/x-python",
   "name": "python",
   "nbconvert_exporter": "python",
   "pygments_lexer": "ipython3",
   "version": "3.11.6"
  }
 },
 "nbformat": 4,
 "nbformat_minor": 5
}
