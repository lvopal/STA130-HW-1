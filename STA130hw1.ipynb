{
 "cells": [
  {
   "cell_type": "code",
   "execution_count": 1,
   "id": "38388ec2",
   "metadata": {},
   "outputs": [],
   "source": [
    "# Question 8 ChatGPT: https://chatgpt.com/share/66e3a499-e190-8012-98c5-380a3d3310ce\n",
    "# Question 1 to 7 ChatGPT: https://chatgpt.com/share/66e35ad6-b978-8012-8b41-98df55e416de "
   ]
  },
  {
   "cell_type": "code",
   "execution_count": null,
   "id": "65538df5",
   "metadata": {},
   "outputs": [],
   "source": [
    "import pandas as pd"
   ]
  },
  {
   "cell_type": "code",
   "execution_count": 2,
   "id": "76e2180e",
   "metadata": {},
   "outputs": [],
   "source": [
    "#Question 1:\n",
    "url = \"https://raw.githubusercontent.com/rfordatascience/tidytuesday/master/data/2020/2020-05-05/villagers.csv\""
   ]
  },
  {
   "cell_type": "code",
   "execution_count": 3,
   "id": "8af99d57",
   "metadata": {},
   "outputs": [],
   "source": [
    "df = pd.read_csv(url)"
   ]
  },
  {
   "cell_type": "code",
   "execution_count": 4,
   "id": "1d2f7b78",
   "metadata": {},
   "outputs": [
    {
     "data": {
      "text/html": [
       "<div>\n",
       "<style scoped>\n",
       "    .dataframe tbody tr th:only-of-type {\n",
       "        vertical-align: middle;\n",
       "    }\n",
       "\n",
       "    .dataframe tbody tr th {\n",
       "        vertical-align: top;\n",
       "    }\n",
       "\n",
       "    .dataframe thead th {\n",
       "        text-align: right;\n",
       "    }\n",
       "</style>\n",
       "<table border=\"1\" class=\"dataframe\">\n",
       "  <thead>\n",
       "    <tr style=\"text-align: right;\">\n",
       "      <th></th>\n",
       "      <th>row_n</th>\n",
       "      <th>id</th>\n",
       "      <th>name</th>\n",
       "      <th>gender</th>\n",
       "      <th>species</th>\n",
       "      <th>birthday</th>\n",
       "      <th>personality</th>\n",
       "      <th>song</th>\n",
       "      <th>phrase</th>\n",
       "      <th>full_id</th>\n",
       "      <th>url</th>\n",
       "    </tr>\n",
       "  </thead>\n",
       "  <tbody>\n",
       "    <tr>\n",
       "      <th>0</th>\n",
       "      <td>2</td>\n",
       "      <td>admiral</td>\n",
       "      <td>Admiral</td>\n",
       "      <td>male</td>\n",
       "      <td>bird</td>\n",
       "      <td>1-27</td>\n",
       "      <td>cranky</td>\n",
       "      <td>Steep Hill</td>\n",
       "      <td>aye aye</td>\n",
       "      <td>villager-admiral</td>\n",
       "      <td>https://villagerdb.com/images/villagers/thumb/...</td>\n",
       "    </tr>\n",
       "    <tr>\n",
       "      <th>1</th>\n",
       "      <td>3</td>\n",
       "      <td>agent-s</td>\n",
       "      <td>Agent S</td>\n",
       "      <td>female</td>\n",
       "      <td>squirrel</td>\n",
       "      <td>7-2</td>\n",
       "      <td>peppy</td>\n",
       "      <td>DJ K.K.</td>\n",
       "      <td>sidekick</td>\n",
       "      <td>villager-agent-s</td>\n",
       "      <td>https://villagerdb.com/images/villagers/thumb/...</td>\n",
       "    </tr>\n",
       "    <tr>\n",
       "      <th>2</th>\n",
       "      <td>4</td>\n",
       "      <td>agnes</td>\n",
       "      <td>Agnes</td>\n",
       "      <td>female</td>\n",
       "      <td>pig</td>\n",
       "      <td>4-21</td>\n",
       "      <td>uchi</td>\n",
       "      <td>K.K. House</td>\n",
       "      <td>snuffle</td>\n",
       "      <td>villager-agnes</td>\n",
       "      <td>https://villagerdb.com/images/villagers/thumb/...</td>\n",
       "    </tr>\n",
       "    <tr>\n",
       "      <th>3</th>\n",
       "      <td>6</td>\n",
       "      <td>al</td>\n",
       "      <td>Al</td>\n",
       "      <td>male</td>\n",
       "      <td>gorilla</td>\n",
       "      <td>10-18</td>\n",
       "      <td>lazy</td>\n",
       "      <td>Steep Hill</td>\n",
       "      <td>Ayyeeee</td>\n",
       "      <td>villager-al</td>\n",
       "      <td>https://villagerdb.com/images/villagers/thumb/...</td>\n",
       "    </tr>\n",
       "    <tr>\n",
       "      <th>4</th>\n",
       "      <td>7</td>\n",
       "      <td>alfonso</td>\n",
       "      <td>Alfonso</td>\n",
       "      <td>male</td>\n",
       "      <td>alligator</td>\n",
       "      <td>6-9</td>\n",
       "      <td>lazy</td>\n",
       "      <td>Forest Life</td>\n",
       "      <td>it'sa me</td>\n",
       "      <td>villager-alfonso</td>\n",
       "      <td>https://villagerdb.com/images/villagers/thumb/...</td>\n",
       "    </tr>\n",
       "    <tr>\n",
       "      <th>...</th>\n",
       "      <td>...</td>\n",
       "      <td>...</td>\n",
       "      <td>...</td>\n",
       "      <td>...</td>\n",
       "      <td>...</td>\n",
       "      <td>...</td>\n",
       "      <td>...</td>\n",
       "      <td>...</td>\n",
       "      <td>...</td>\n",
       "      <td>...</td>\n",
       "      <td>...</td>\n",
       "    </tr>\n",
       "    <tr>\n",
       "      <th>386</th>\n",
       "      <td>475</td>\n",
       "      <td>winnie</td>\n",
       "      <td>Winnie</td>\n",
       "      <td>female</td>\n",
       "      <td>horse</td>\n",
       "      <td>1-31</td>\n",
       "      <td>peppy</td>\n",
       "      <td>My Place</td>\n",
       "      <td>hay-OK</td>\n",
       "      <td>villager-winnie</td>\n",
       "      <td>https://villagerdb.com/images/villagers/thumb/...</td>\n",
       "    </tr>\n",
       "    <tr>\n",
       "      <th>387</th>\n",
       "      <td>477</td>\n",
       "      <td>wolfgang</td>\n",
       "      <td>Wolfgang</td>\n",
       "      <td>male</td>\n",
       "      <td>wolf</td>\n",
       "      <td>11-25</td>\n",
       "      <td>cranky</td>\n",
       "      <td>K.K. Song</td>\n",
       "      <td>snarrrl</td>\n",
       "      <td>villager-wolfgang</td>\n",
       "      <td>https://villagerdb.com/images/villagers/thumb/...</td>\n",
       "    </tr>\n",
       "    <tr>\n",
       "      <th>388</th>\n",
       "      <td>480</td>\n",
       "      <td>yuka</td>\n",
       "      <td>Yuka</td>\n",
       "      <td>female</td>\n",
       "      <td>koala</td>\n",
       "      <td>7-20</td>\n",
       "      <td>snooty</td>\n",
       "      <td>Soulful K.K.</td>\n",
       "      <td>tsk tsk</td>\n",
       "      <td>villager-yuka</td>\n",
       "      <td>https://villagerdb.com/images/villagers/thumb/...</td>\n",
       "    </tr>\n",
       "    <tr>\n",
       "      <th>389</th>\n",
       "      <td>481</td>\n",
       "      <td>zell</td>\n",
       "      <td>Zell</td>\n",
       "      <td>male</td>\n",
       "      <td>deer</td>\n",
       "      <td>6-7</td>\n",
       "      <td>smug</td>\n",
       "      <td>K.K. D&amp;B</td>\n",
       "      <td>pronk</td>\n",
       "      <td>villager-zell</td>\n",
       "      <td>https://villagerdb.com/images/villagers/thumb/...</td>\n",
       "    </tr>\n",
       "    <tr>\n",
       "      <th>390</th>\n",
       "      <td>483</td>\n",
       "      <td>zucker</td>\n",
       "      <td>Zucker</td>\n",
       "      <td>male</td>\n",
       "      <td>octopus</td>\n",
       "      <td>3-8</td>\n",
       "      <td>lazy</td>\n",
       "      <td>Spring Blossoms</td>\n",
       "      <td>bloop</td>\n",
       "      <td>villager-zucker</td>\n",
       "      <td>https://villagerdb.com/images/villagers/thumb/...</td>\n",
       "    </tr>\n",
       "  </tbody>\n",
       "</table>\n",
       "<p>391 rows × 11 columns</p>\n",
       "</div>"
      ],
      "text/plain": [
       "     row_n        id      name  gender    species birthday personality  \\\n",
       "0        2   admiral   Admiral    male       bird     1-27      cranky   \n",
       "1        3   agent-s   Agent S  female   squirrel      7-2       peppy   \n",
       "2        4     agnes     Agnes  female        pig     4-21        uchi   \n",
       "3        6        al        Al    male    gorilla    10-18        lazy   \n",
       "4        7   alfonso   Alfonso    male  alligator      6-9        lazy   \n",
       "..     ...       ...       ...     ...        ...      ...         ...   \n",
       "386    475    winnie    Winnie  female      horse     1-31       peppy   \n",
       "387    477  wolfgang  Wolfgang    male       wolf    11-25      cranky   \n",
       "388    480      yuka      Yuka  female      koala     7-20      snooty   \n",
       "389    481      zell      Zell    male       deer      6-7        smug   \n",
       "390    483    zucker    Zucker    male    octopus      3-8        lazy   \n",
       "\n",
       "                song    phrase            full_id  \\\n",
       "0         Steep Hill   aye aye   villager-admiral   \n",
       "1            DJ K.K.  sidekick   villager-agent-s   \n",
       "2         K.K. House   snuffle     villager-agnes   \n",
       "3         Steep Hill   Ayyeeee        villager-al   \n",
       "4        Forest Life  it'sa me   villager-alfonso   \n",
       "..               ...       ...                ...   \n",
       "386         My Place    hay-OK    villager-winnie   \n",
       "387        K.K. Song   snarrrl  villager-wolfgang   \n",
       "388     Soulful K.K.   tsk tsk      villager-yuka   \n",
       "389         K.K. D&B     pronk      villager-zell   \n",
       "390  Spring Blossoms     bloop    villager-zucker   \n",
       "\n",
       "                                                   url  \n",
       "0    https://villagerdb.com/images/villagers/thumb/...  \n",
       "1    https://villagerdb.com/images/villagers/thumb/...  \n",
       "2    https://villagerdb.com/images/villagers/thumb/...  \n",
       "3    https://villagerdb.com/images/villagers/thumb/...  \n",
       "4    https://villagerdb.com/images/villagers/thumb/...  \n",
       "..                                                 ...  \n",
       "386  https://villagerdb.com/images/villagers/thumb/...  \n",
       "387  https://villagerdb.com/images/villagers/thumb/...  \n",
       "388  https://villagerdb.com/images/villagers/thumb/...  \n",
       "389  https://villagerdb.com/images/villagers/thumb/...  \n",
       "390  https://villagerdb.com/images/villagers/thumb/...  \n",
       "\n",
       "[391 rows x 11 columns]"
      ]
     },
     "execution_count": 4,
     "metadata": {},
     "output_type": "execute_result"
    }
   ],
   "source": [
    "df.isna().sum()\n",
    "df"
   ]
  },
  {
   "cell_type": "code",
   "execution_count": 5,
   "id": "ae2dedc6",
   "metadata": {},
   "outputs": [
    {
     "name": "stdout",
     "output_type": "stream",
     "text": [
      "Number of rows: 391\n",
      "Number of columns: 11\n"
     ]
    }
   ],
   "source": [
    "#Question 2:\n",
    "print(\"Number of rows:\", df.shape[0])\n",
    "print(\"Number of columns:\", df.shape[1])"
   ]
  },
  {
   "cell_type": "code",
   "execution_count": 6,
   "id": "c6b56657",
   "metadata": {},
   "outputs": [],
   "source": [
    "# Observations are the individual rows in my dataset, each representing a single entry, such as one villager in the villagers.csv file with their details.\n",
    "# Variables are the individual columns in my dataset, each providing specific information about the observations, like the villager’s name, species, birthday, or personality.\n",
    "\n",
    "\n"
   ]
  },
  {
   "cell_type": "code",
   "execution_count": 7,
   "id": "3fb33e44",
   "metadata": {},
   "outputs": [
    {
     "name": "stdout",
     "output_type": "stream",
     "text": [
      "             row_n       id     name gender species birthday personality  \\\n",
      "count   391.000000      390      391    391     391      391         391   \n",
      "unique         NaN      390      391      2      35      361           8   \n",
      "top            NaN  admiral  Admiral   male     cat     1-27        lazy   \n",
      "freq           NaN        1        1    204      23        2          60   \n",
      "mean    239.902813      NaN      NaN    NaN     NaN      NaN         NaN   \n",
      "std     140.702672      NaN      NaN    NaN     NaN      NaN         NaN   \n",
      "min       2.000000      NaN      NaN    NaN     NaN      NaN         NaN   \n",
      "25%     117.500000      NaN      NaN    NaN     NaN      NaN         NaN   \n",
      "50%     240.000000      NaN      NaN    NaN     NaN      NaN         NaN   \n",
      "75%     363.500000      NaN      NaN    NaN     NaN      NaN         NaN   \n",
      "max     483.000000      NaN      NaN    NaN     NaN      NaN         NaN   \n",
      "\n",
      "                song   phrase           full_id  \\\n",
      "count            380      391               391   \n",
      "unique            92      388               391   \n",
      "top     K.K. Country  wee one  villager-admiral   \n",
      "freq              10        2                 1   \n",
      "mean             NaN      NaN               NaN   \n",
      "std              NaN      NaN               NaN   \n",
      "min              NaN      NaN               NaN   \n",
      "25%              NaN      NaN               NaN   \n",
      "50%              NaN      NaN               NaN   \n",
      "75%              NaN      NaN               NaN   \n",
      "max              NaN      NaN               NaN   \n",
      "\n",
      "                                                      url  \n",
      "count                                                 391  \n",
      "unique                                                391  \n",
      "top     https://villagerdb.com/images/villagers/thumb/...  \n",
      "freq                                                    1  \n",
      "mean                                                  NaN  \n",
      "std                                                   NaN  \n",
      "min                                                   NaN  \n",
      "25%                                                   NaN  \n",
      "50%                                                   NaN  \n",
      "75%                                                   NaN  \n",
      "max                                                   NaN  \n"
     ]
    }
   ],
   "source": [
    "#Question 3:\n",
    "#Overall summary\n",
    "summary_all = df.describe(include='all')\n",
    "print(summary_all)"
   ]
  },
  {
   "cell_type": "code",
   "execution_count": 8,
   "id": "60866d6b",
   "metadata": {},
   "outputs": [
    {
     "name": "stdout",
     "output_type": "stream",
     "text": [
      "Summary statistics for numerical columns:\n",
      "            row_n\n",
      "count  391.000000\n",
      "mean   239.902813\n",
      "std    140.702672\n",
      "min      2.000000\n",
      "25%    117.500000\n",
      "50%    240.000000\n",
      "75%    363.500000\n",
      "max    483.000000\n"
     ]
    }
   ],
   "source": [
    "# Get summary statistics for numerical columns\n",
    "print(\"Summary statistics for numerical columns:\")\n",
    "print(df.describe())"
   ]
  },
  {
   "cell_type": "code",
   "execution_count": 9,
   "id": "13650c81",
   "metadata": {},
   "outputs": [
    {
     "name": "stdout",
     "output_type": "stream",
     "text": [
      "\n",
      "Frequency count of each species:\n",
      "species\n",
      "cat          23\n",
      "rabbit       20\n",
      "frog         18\n",
      "squirrel     18\n",
      "duck         17\n",
      "dog          16\n",
      "cub          16\n",
      "pig          15\n",
      "bear         15\n",
      "mouse        15\n",
      "horse        15\n",
      "bird         13\n",
      "penguin      13\n",
      "sheep        13\n",
      "elephant     11\n",
      "wolf         11\n",
      "ostrich      10\n",
      "deer         10\n",
      "eagle         9\n",
      "gorilla       9\n",
      "chicken       9\n",
      "koala         9\n",
      "goat          8\n",
      "hamster       8\n",
      "kangaroo      8\n",
      "monkey        8\n",
      "anteater      7\n",
      "hippo         7\n",
      "tiger         7\n",
      "alligator     7\n",
      "lion          7\n",
      "bull          6\n",
      "rhino         6\n",
      "cow           4\n",
      "octopus       3\n",
      "Name: count, dtype: int64\n"
     ]
    }
   ],
   "source": [
    "# Get the frequency count of each species\n",
    "print(\"\\nFrequency count of each species:\")\n",
    "print(df['species'].value_counts())\n"
   ]
  },
  {
   "cell_type": "code",
   "execution_count": 10,
   "id": "73fbb9c7",
   "metadata": {},
   "outputs": [],
   "source": [
    "# Question 4:\n",
    "# If there are (a) non-numeric variables and (b) missing values in numeric variables, there can be discrepancies between the dataset size reported by df.shape and the summary provided by df.describe().\n",
    "\n",
    "# (a) Num of Columns Analyzed: df.shape gives the total number of rows and columns in the dataset, including both numeric and non-numeric variables. However, df.describe() automatically only analyzes numeric columns, which means the number of columns reported by df.describe() can be fewer than the total number of columns indicated by df.shape.\n",
    "\n",
    "# (b) Values Reported in the \"Count\" Column: The \"count\" column in df.describe() shows the number of non-missing values for each numeric variable. If there are missing values in any numeric column, the \"count\" reported for that column will be less than the total number of rows (df.shape[0]). This discrepancy occurs because df.describe() only counts the non-missing values, leading to a potentially lower count than the actual number of observations in the dataset."
   ]
  },
  {
   "cell_type": "code",
   "execution_count": 11,
   "id": "bd907092",
   "metadata": {},
   "outputs": [],
   "source": [
    "# Question 5:\n",
    "# An attribute is a characteristic of an object - it holds some kind of data or value. For example, df.shape is an attribute of a DataFrame object in pandas that returns the dimensions of the DataFrame (i.e., the number of rows and columns). Attributes do not require parentheses because they simply only need to return a value or data stored in the object.\n",
    "# Method is a function that is associated with an object. It performs a specific operation or task on the data within the object. For example, df.describe() is a method of a DataFrame that computes summary statistics for the data. Methods require parentheses because they can take arguments and execute some code to perform their tasks.\n"
   ]
  },
  {
   "cell_type": "code",
   "execution_count": 12,
   "id": "07060942",
   "metadata": {},
   "outputs": [],
   "source": [
    "# #Question 6:\n",
    "# 1. Count\n",
    "# Definition: The number of non-missing (non-NA/null) values in each column. It indicates how many data points are present for each variable.\n",
    "\n",
    "# 2. Mean\n",
    "# Definition: The average of the values in the column. It is calculated by summing all the values and then dividing by the number of non-missing values (i.e., the count).\n",
    "\n",
    "# 3. Standard Deviation (std)\n",
    "# Definition: A measure of the dispersion or spread of the values in the column around the mean. A higher standard deviation indicates that the values are more spread out from the mean, while a lower standard deviation indicates they are closer to the mean.\n",
    "\n",
    "# 4. Minimum (min)\n",
    "# Definition: The smallest value in the column. This represents the lower bound of the data for that variable.\n",
    "\n",
    "# 5. 25% (First Quartile)\n",
    "# Definition: The value below which 25% of the data falls. This is also known as the first quartile (Q1). It gives an idea of the lower spread of the data.\n",
    "\n",
    "# 6. 50% (Median)\n",
    "# Definition: The middle value of the data when it is ordered from smallest to largest. This is also known as the median. Half of the data points are below this value, and half are above.\n",
    "\n",
    "# 7. 75% (Third Quartile)\n",
    "# Definition: The value below which 75% of the data falls. This is also known as the third quartile (Q3). It indicates the upper spread of the data.\n",
    "\n",
    "# 8. Maximum (max)\n",
    "# Definition: The largest value in the column. This represents the upper bound of the data for that variable."
   ]
  },
  {
   "cell_type": "code",
   "execution_count": 13,
   "id": "a7daf067",
   "metadata": {},
   "outputs": [],
   "source": [
    "#Question 7:\n",
    "#1) If analyzing a dataset where most columns are important for analysis and removing any one of them would cause a loss in data, using df.dropna() allows you to remove only the incomplete rows, keeping the majority of the data intact.\n",
    "#2) If one particular column in a dataset has a majority of missing values and is most likely not essential for your analysis, using del df['col'] to remove it entirely is more efficient than dropping rows.\n",
    "#3) Deleting a column (del df['col']) before removing rows with missing values (df.dropna()) is important because it reduces the number of missing values that need to be checked. This way, you reduce the amount of data you need to check for missing values, making it easier and more efficient to then remove any rows with missing data.\n",
    "#4)"
   ]
  },
  {
   "cell_type": "code",
   "execution_count": 14,
   "id": "666bb962",
   "metadata": {},
   "outputs": [
    {
     "name": "stdout",
     "output_type": "stream",
     "text": [
      "\n",
      "Missing values per column:\n",
      "row_n           0\n",
      "id              1\n",
      "name            0\n",
      "gender          0\n",
      "species         0\n",
      "birthday        0\n",
      "personality     0\n",
      "song           11\n",
      "phrase          0\n",
      "full_id         0\n",
      "url             0\n",
      "dtype: int64\n"
     ]
    }
   ],
   "source": [
    "# Check for missing values in each column\n",
    "missing_values = df.isna().sum()\n",
    "print(\"\\nMissing values per column:\")\n",
    "print(missing_values)"
   ]
  },
  {
   "cell_type": "code",
   "execution_count": 15,
   "id": "7079a5f4",
   "metadata": {},
   "outputs": [
    {
     "name": "stdout",
     "output_type": "stream",
     "text": [
      "\n",
      "Dataset info after removing 'song' column:\n",
      "<class 'pandas.core.frame.DataFrame'>\n",
      "RangeIndex: 391 entries, 0 to 390\n",
      "Data columns (total 10 columns):\n",
      " #   Column       Non-Null Count  Dtype \n",
      "---  ------       --------------  ----- \n",
      " 0   row_n        391 non-null    int64 \n",
      " 1   id           390 non-null    object\n",
      " 2   name         391 non-null    object\n",
      " 3   gender       391 non-null    object\n",
      " 4   species      391 non-null    object\n",
      " 5   birthday     391 non-null    object\n",
      " 6   personality  391 non-null    object\n",
      " 7   phrase       391 non-null    object\n",
      " 8   full_id      391 non-null    object\n",
      " 9   url          391 non-null    object\n",
      "dtypes: int64(1), object(9)\n",
      "memory usage: 30.7+ KB\n",
      "None\n"
     ]
    }
   ],
   "source": [
    "# Remove the 'song' column\n",
    "del df['song']\n",
    "\n",
    "# Verify the column has been removed\n",
    "print(\"\\nDataset info after removing 'song' column:\")\n",
    "print(df.info())\n"
   ]
  },
  {
   "cell_type": "code",
   "execution_count": 16,
   "id": "cb597a81",
   "metadata": {},
   "outputs": [
    {
     "name": "stdout",
     "output_type": "stream",
     "text": [
      "\n",
      "Cleaned dataset info:\n",
      "<class 'pandas.core.frame.DataFrame'>\n",
      "Index: 390 entries, 0 to 390\n",
      "Data columns (total 10 columns):\n",
      " #   Column       Non-Null Count  Dtype \n",
      "---  ------       --------------  ----- \n",
      " 0   row_n        390 non-null    int64 \n",
      " 1   id           390 non-null    object\n",
      " 2   name         390 non-null    object\n",
      " 3   gender       390 non-null    object\n",
      " 4   species      390 non-null    object\n",
      " 5   birthday     390 non-null    object\n",
      " 6   personality  390 non-null    object\n",
      " 7   phrase       390 non-null    object\n",
      " 8   full_id      390 non-null    object\n",
      " 9   url          390 non-null    object\n",
      "dtypes: int64(1), object(9)\n",
      "memory usage: 33.5+ KB\n",
      "None\n",
      "\n",
      "Cleaned dataset preview:\n",
      "   row_n       id     name  gender    species birthday personality    phrase  \\\n",
      "0      2  admiral  Admiral    male       bird     1-27      cranky   aye aye   \n",
      "1      3  agent-s  Agent S  female   squirrel      7-2       peppy  sidekick   \n",
      "2      4    agnes    Agnes  female        pig     4-21        uchi   snuffle   \n",
      "3      6       al       Al    male    gorilla    10-18        lazy   Ayyeeee   \n",
      "4      7  alfonso  Alfonso    male  alligator      6-9        lazy  it'sa me   \n",
      "\n",
      "            full_id                                                url  \n",
      "0  villager-admiral  https://villagerdb.com/images/villagers/thumb/...  \n",
      "1  villager-agent-s  https://villagerdb.com/images/villagers/thumb/...  \n",
      "2    villager-agnes  https://villagerdb.com/images/villagers/thumb/...  \n",
      "3       villager-al  https://villagerdb.com/images/villagers/thumb/...  \n",
      "4  villager-alfonso  https://villagerdb.com/images/villagers/thumb/...  \n"
     ]
    }
   ],
   "source": [
    "# Drop rows with missing values in 'id'\n",
    "df_cleaned = df.dropna(subset=['id'])\n",
    "\n",
    "# Display information about the cleaned dataset\n",
    "print(\"\\nCleaned dataset info:\")\n",
    "print(df_cleaned.info())\n",
    "print(\"\\nCleaned dataset preview:\")\n",
    "print(df_cleaned.head())\n"
   ]
  },
  {
   "cell_type": "code",
   "execution_count": 17,
   "id": "1aaa8c22",
   "metadata": {},
   "outputs": [],
   "source": [
    "# Justification:\n",
    "# Removing the 'song' Column: This column was removed because it contained a significant number of missing values (11). Removing it simplifies the dataset and ensures that we don’t have to handle those missing values which was easiest by using del df['col']\n",
    " \n",
    "# Dropping Rows with Missing 'id' Values: T: By using dropna(), you avoid altering the structure of your dataset’s unique identifiers. This method allows you to clean your data while retaining the ability to uniquely identify each entry."
   ]
  },
  {
   "cell_type": "code",
   "execution_count": 18,
   "id": "8b1ebbbd",
   "metadata": {},
   "outputs": [],
   "source": [
    "# Before Cleaning: We would see missing data in specific columns and potentially a larger dataset (more rows and columns).\n",
    "# After Cleaning: The dataset would have fewer columns (since we removed one) and potentially fewer rows (after dropping those with missing data), but it would be free of missing values."
   ]
  },
  {
   "cell_type": "code",
   "execution_count": 19,
   "id": "5ddcdd3a",
   "metadata": {},
   "outputs": [
    {
     "name": "stdout",
     "output_type": "stream",
     "text": [
      "\n",
      "Missing values per column after cleaning:\n",
      "row_n          0\n",
      "id             0\n",
      "name           0\n",
      "gender         0\n",
      "species        0\n",
      "birthday       0\n",
      "personality    0\n",
      "phrase         0\n",
      "full_id        0\n",
      "url            0\n",
      "dtype: int64\n"
     ]
    }
   ],
   "source": [
    "missing_values_after = df_cleaned.isna().sum()\n",
    "\n",
    "print(\"\\nMissing values per column after cleaning:\")\n",
    "print(missing_values_after)"
   ]
  },
  {
   "cell_type": "code",
   "execution_count": 20,
   "id": "ae42564f",
   "metadata": {},
   "outputs": [],
   "source": [
    "#Question 8.1:\n",
    "url = \"https://raw.githubusercontent.com/mwaskom/seaborn-data/master/titanic.csv\"\n",
    "df = pd.read_csv(url)\n",
    "\n"
   ]
  },
  {
   "cell_type": "code",
   "execution_count": 21,
   "id": "73bf452f",
   "metadata": {
    "slideshow": {
     "slide_type": ""
    }
   },
   "outputs": [
    {
     "data": {
      "text/html": [
       "<div>\n",
       "<style scoped>\n",
       "    .dataframe tbody tr th:only-of-type {\n",
       "        vertical-align: middle;\n",
       "    }\n",
       "\n",
       "    .dataframe tbody tr th {\n",
       "        vertical-align: top;\n",
       "    }\n",
       "\n",
       "    .dataframe thead th {\n",
       "        text-align: right;\n",
       "    }\n",
       "</style>\n",
       "<table border=\"1\" class=\"dataframe\">\n",
       "  <thead>\n",
       "    <tr style=\"text-align: right;\">\n",
       "      <th></th>\n",
       "      <th>count</th>\n",
       "      <th>mean</th>\n",
       "      <th>std</th>\n",
       "      <th>min</th>\n",
       "      <th>25%</th>\n",
       "      <th>50%</th>\n",
       "      <th>75%</th>\n",
       "      <th>max</th>\n",
       "    </tr>\n",
       "    <tr>\n",
       "      <th>sex</th>\n",
       "      <th></th>\n",
       "      <th></th>\n",
       "      <th></th>\n",
       "      <th></th>\n",
       "      <th></th>\n",
       "      <th></th>\n",
       "      <th></th>\n",
       "      <th></th>\n",
       "    </tr>\n",
       "  </thead>\n",
       "  <tbody>\n",
       "    <tr>\n",
       "      <th>female</th>\n",
       "      <td>261.0</td>\n",
       "      <td>27.915709</td>\n",
       "      <td>14.110146</td>\n",
       "      <td>0.75</td>\n",
       "      <td>18.0</td>\n",
       "      <td>27.0</td>\n",
       "      <td>37.0</td>\n",
       "      <td>63.0</td>\n",
       "    </tr>\n",
       "    <tr>\n",
       "      <th>male</th>\n",
       "      <td>453.0</td>\n",
       "      <td>30.726645</td>\n",
       "      <td>14.678201</td>\n",
       "      <td>0.42</td>\n",
       "      <td>21.0</td>\n",
       "      <td>29.0</td>\n",
       "      <td>39.0</td>\n",
       "      <td>80.0</td>\n",
       "    </tr>\n",
       "  </tbody>\n",
       "</table>\n",
       "</div>"
      ],
      "text/plain": [
       "        count       mean        std   min   25%   50%   75%   max\n",
       "sex                                                              \n",
       "female  261.0  27.915709  14.110146  0.75  18.0  27.0  37.0  63.0\n",
       "male    453.0  30.726645  14.678201  0.42  21.0  29.0  39.0  80.0"
      ]
     },
     "execution_count": 21,
     "metadata": {},
     "output_type": "execute_result"
    }
   ],
   "source": [
    "df.groupby(\"sex\")[\"age\"].describe()\n",
    "# The df.groupby(\"sex\")[\"age\"].describe() operation groups the dataset by gender and provides summary statistics (e.g., count, mean, min, max) for the ages within each gender group."
   ]
  },
  {
   "cell_type": "code",
   "execution_count": 22,
   "id": "53760c13",
   "metadata": {},
   "outputs": [],
   "source": [
    "#Question 8.2\n",
    "# df.describe() shows overall statistics for each column, with the count reflecting the number of non-missing values in that entire column. In contrast, df.groupby(\"col1\")[\"col2\"].describe() provides statistics for col2 within each group defined by col1, so the count represents non-missing values within each specific group, which can differ from the overall count."
   ]
  },
  {
   "cell_type": "code",
   "execution_count": 23,
   "id": "51fde399",
   "metadata": {},
   "outputs": [],
   "source": [
    "#Question 8.3\n",
    "# After expirementing with both ChatGPT and Google, I find ChatGPT to be much easier and more efficent to work on errors with as it can directly understand and solve problems in real-time, especially when things get more complicated. Google was decent for simple concepts such as syntax, but the site simply cannot comprehend entire problems and provide unique solutions the way a ChatBot can. For example, speaking as a beginner, if you encounter an unkown error somewhere deep in your code, ChatGPT can quickly guide you through the debugging process and solve your problems almost instantly. On the other hand, Google searches often are time consuming and lack the personalized interaction and comprehensive problem-solving capabilities that ChatGPT provides."
   ]
  },
  {
   "cell_type": "code",
   "execution_count": null,
   "id": "deaf7bb3",
   "metadata": {},
   "outputs": [],
   "source": [
    "#Question 9\n",
    "# Yes"
   ]
  }
 ],
 "metadata": {
  "kernelspec": {
   "display_name": "Python 3 (ipykernel)",
   "language": "python",
   "name": "python3"
  },
  "language_info": {
   "codemirror_mode": {
    "name": "ipython",
    "version": 3
   },
   "file_extension": ".py",
   "mimetype": "text/x-python",
   "name": "python",
   "nbconvert_exporter": "python",
   "pygments_lexer": "ipython3",
   "version": "3.11.6"
  }
 },
 "nbformat": 4,
 "nbformat_minor": 5
}
